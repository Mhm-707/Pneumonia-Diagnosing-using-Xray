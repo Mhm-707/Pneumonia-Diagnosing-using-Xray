{
  "nbformat": 4,
  "nbformat_minor": 0,
  "metadata": {
    "colab": {
      "name": "Chest_Xray_For_ Pneumonia_Detection",
      "provenance": [],
      "collapsed_sections": [
        "PgfsaCkZShwf"
      ],
      "toc_visible": true
    },
    "kernelspec": {
      "name": "python3",
      "display_name": "Python 3"
    },
    "accelerator": "GPU"
  },
  "cells": [
    {
      "cell_type": "code",
      "metadata": {
        "id": "qenS4psP0wRY",
        "colab_type": "code",
        "outputId": "497ed414-9b1a-417e-b363-e78e35298dc5",
        "colab": {
          "base_uri": "https://localhost:8080/",
          "height": 51
        }
      },
      "source": [
        "from google.colab import drive\n",
        "import os\n",
        "import shutil\n",
        "import numpy as np\n",
        "import pandas as pd\n",
        "import tensorflow as tf\n",
        "import matplotlib.pyplot as plt\n",
        "from tensorflow import keras\n",
        "from keras import layers\n",
        "from keras import models\n",
        "from keras import optimizers\n",
        "from keras.layers import Input, Dense, Activation, Flatten, Conv2D\n",
        "from keras.layers import MaxPooling2D, Dropout, ZeroPadding2D, BatchNormalization\n",
        "from keras.models import Model, load_model\n",
        "from keras.preprocessing.image import ImageDataGenerator, image\n",
        "tf.test.gpu_device_name()"
      ],
      "execution_count": 1,
      "outputs": [
        {
          "output_type": "stream",
          "text": [
            "Using TensorFlow backend.\n"
          ],
          "name": "stderr"
        },
        {
          "output_type": "execute_result",
          "data": {
            "text/plain": [
              "'/device:GPU:0'"
            ]
          },
          "metadata": {
            "tags": []
          },
          "execution_count": 1
        }
      ]
    },
    {
      "cell_type": "markdown",
      "metadata": {
        "id": "5I2SsGLHSEUB",
        "colab_type": "text"
      },
      "source": [
        "# Data Preparing"
      ]
    },
    {
      "cell_type": "code",
      "metadata": {
        "id": "imWAlsDjtY9k",
        "colab_type": "code",
        "colab": {}
      },
      "source": [
        "\n",
        "original_dataset_dir = '/content/drive/My Drive/Colab Notebooks/Chest_Xray/DATA' \n",
        "\n",
        "base_dir = '/content/Chest_Xray'\n",
        "os.mkdir(base_dir)\n",
        "\n",
        "train_dir = os.path.join(base_dir, 'train')\n",
        "os.mkdir(train_dir)\n",
        "\n",
        "test_dir = os.path.join(base_dir, 'test') \n",
        "os.mkdir(test_dir)\n",
        "\n",
        "train_Normal_dir = os.path.join(train_dir, 'Normal')\n",
        "os.mkdir(train_Normal_dir)\n",
        "\n",
        "train_Sick_dir = os.path.join(train_dir, 'Sick')\n",
        "os.mkdir(train_Sick_dir)\n",
        "\n",
        "test_Normal_dir = os.path.join(test_dir, 'Normal')\n",
        "os.mkdir(test_Normal_dir)\n",
        "\n",
        "test_Sick_dir = os.path.join(test_dir, 'Sick')\n",
        "os.mkdir(test_Sick_dir)\n",
        "\n",
        "\n",
        "fnames = ['Normal.{}.jpeg'.format(i) for i in range(1341)]\n",
        "for fname in fnames:\n",
        "  src = os.path.join(original_dataset_dir, fname)\n",
        "  dst = os.path.join(train_Normal_dir, fname)\n",
        "  shutil.copyfile(src, dst)\n",
        "\n",
        "\n",
        "fnames = ['Normal.{}.jpeg'.format(i) for i in range(1341, 1574)]\n",
        "for fname in fnames:\n",
        "  src = os.path.join(original_dataset_dir, fname)\n",
        "  dst = os.path.join(test_Normal_dir, fname)\n",
        "  shutil.copyfile(src, dst)\n",
        "\n",
        "  fnames = ['Sick.{}.jpeg'.format(i) for i in range(3874)]\n",
        "for fname in fnames:\n",
        "  src = os.path.join(original_dataset_dir, fname)\n",
        "  dst = os.path.join(train_Sick_dir, fname)\n",
        "  shutil.copyfile(src, dst)\n",
        "\n",
        "fnames = ['Sick.{}.jpeg'.format(i) for i in range(3874, 4264)]\n",
        "for fname in fnames:\n",
        "  src = os.path.join(original_dataset_dir, fname)\n",
        "  dst = os.path.join(test_Sick_dir, fname)\n",
        "  shutil.copyfile(src, dst)\n",
        "\n"
      ],
      "execution_count": 0,
      "outputs": []
    },
    {
      "cell_type": "code",
      "metadata": {
        "id": "BljBpBccVubg",
        "colab_type": "code",
        "outputId": "cea0f6d3-5ede-462e-ce10-6c201e5fd22c",
        "colab": {
          "base_uri": "https://localhost:8080/",
          "height": 85
        }
      },
      "source": [
        "print('total training Normal images:', len(os.listdir(train_Normal_dir)))\n",
        "print('total training Sick images:', len(os.listdir(train_Sick_dir)))\n",
        "print('total test Normal images:', len(os.listdir(test_Normal_dir)))\n",
        "print('total test Sick images:', len(os.listdir(test_Sick_dir)))"
      ],
      "execution_count": 3,
      "outputs": [
        {
          "output_type": "stream",
          "text": [
            "total training Normal images: 1341\n",
            "total training Sick images: 3874\n",
            "total test Normal images: 233\n",
            "total test Sick images: 390\n"
          ],
          "name": "stdout"
        }
      ]
    },
    {
      "cell_type": "code",
      "metadata": {
        "id": "YpjfwRM4T-uC",
        "colab_type": "code",
        "colab": {
          "base_uri": "https://localhost:8080/",
          "height": 51
        },
        "outputId": "393788ec-eee4-46ca-c3ef-6dc257aef2ac"
      },
      "source": [
        "train_datagen = ImageDataGenerator(rescale = 1./255)\n",
        "test_datagen = ImageDataGenerator(rescale = 1./255)\n",
        "\n",
        "train_generator = train_datagen.flow_from_directory(\n",
        "    train_dir,\n",
        "    class_mode = 'binary',\n",
        "    color_mode=\"grayscale\",\n",
        "    target_size = (200, 200),\n",
        "    batch_size = 16)\n",
        "\n",
        "test_generator = test_datagen.flow_from_directory(\n",
        "    test_dir,\n",
        "    class_mode = 'binary',\n",
        "    color_mode=\"grayscale\",\n",
        "    target_size = (200, 200),\n",
        "    batch_size = 16)\n",
        "\n",
        "\n"
      ],
      "execution_count": 80,
      "outputs": [
        {
          "output_type": "stream",
          "text": [
            "Found 5215 images belonging to 2 classes.\n",
            "Found 623 images belonging to 2 classes.\n"
          ],
          "name": "stdout"
        }
      ]
    },
    {
      "cell_type": "code",
      "metadata": {
        "id": "oRSBb2Scdj8D",
        "colab_type": "code",
        "outputId": "49b3d7bf-3d03-4eb2-eb71-34a86ec08f2a",
        "colab": {
          "base_uri": "https://localhost:8080/",
          "height": 51
        }
      },
      "source": [
        "for data_batch, labels_batch in train_generator:\n",
        "  print('data batch shape:', data_batch.shape)\n",
        "  print('labels batch shape:', labels_batch.shape)\n",
        "  break"
      ],
      "execution_count": 81,
      "outputs": [
        {
          "output_type": "stream",
          "text": [
            "data batch shape: (16, 200, 200, 1)\n",
            "labels batch shape: (16,)\n"
          ],
          "name": "stdout"
        }
      ]
    },
    {
      "cell_type": "markdown",
      "metadata": {
        "id": "9l2T7AEbSLFt",
        "colab_type": "text"
      },
      "source": [
        "# Model Creation and Assigning."
      ]
    },
    {
      "cell_type": "code",
      "metadata": {
        "id": "ZeAazacW6mez",
        "colab_type": "code",
        "colab": {}
      },
      "source": [
        "def xray(input_shape):\n",
        "\n",
        "  #Placeholding for the X_input.\n",
        "  X_input = Input(input_shape)\n",
        "    \n",
        "  X = X_input\n",
        "\n",
        "  # (Conv2d + BN + Dropout + MaxPooling) X 10\n",
        "  X = Conv2D(32, (3, 3), input_shape=(200, 200, 1), padding = \"same\")(X)\n",
        "  X = BatchNormalization(axis = -1)(X)\n",
        "  X = Activation('relu')(X)\n",
        "  X = Dropout(0.6)(X)\n",
        "  X = MaxPooling2D((2, 2))(X)\n",
        "\n",
        "  X = Conv2D(32, (3, 3), padding = \"same\")(X)\n",
        "  X = BatchNormalization(axis = -1)(X)\n",
        "  X = Activation('relu')(X)\n",
        "  X = Dropout(0.6)(X)\n",
        "  X = MaxPooling2D((2, 2))(X)\n",
        "\n",
        "  X = Conv2D(64, (3, 3), padding = \"same\")(X)\n",
        "  X = BatchNormalization(axis = -1)(X)\n",
        "  X = Activation('relu')(X)\n",
        "  X = Dropout(0.6)(X)\n",
        "  X = MaxPooling2D((2, 2))(X)\n",
        "\n",
        "  X = Conv2D(64, (3, 3), padding = \"same\")(X)\n",
        "  X = BatchNormalization(axis = -1)(X)\n",
        "  X = Activation('relu')(X)\n",
        "  X = Dropout(0.6)(X)\n",
        "  X = MaxPooling2D((2, 2))(X)\n",
        "\n",
        "  X = Conv2D(128, (3, 3), padding = \"same\")(X)\n",
        "  X = BatchNormalization(axis = -1)(X)\n",
        "  X = Activation('relu')(X)\n",
        "  X = Dropout(0.6)(X)\n",
        "  X = MaxPooling2D((2, 2))(X) \n",
        "\n",
        "  \n",
        "  X = Conv2D(128, (3, 3), padding = \"same\")(X)\n",
        "  X = BatchNormalization(axis = -1)(X)\n",
        "  X = Activation('relu')(X)\n",
        "  X = Dropout(0.5)(X)\n",
        "  X = MaxPooling2D((2, 2), padding = \"same\")(X)\n",
        "  \n",
        "  X = Conv2D(256, (3, 3), padding = \"same\")(X)\n",
        "  X = BatchNormalization(axis = -1)(X)\n",
        "  X = Activation('relu')(X)\n",
        "  X = Dropout(0.5)(X)\n",
        "  X = MaxPooling2D((2, 2), padding = \"same\")(X)\n",
        "\n",
        "  X = Conv2D(256, (3, 3), padding = \"same\")(X)\n",
        "  X = BatchNormalization(axis = -1)(X)\n",
        "  X = Activation('relu')(X)\n",
        "  X = Dropout(0.5)(X)\n",
        "  X = MaxPooling2D((2, 2), padding = \"same\")(X)\n",
        "  \n",
        "  X = Conv2D(512, (3, 3), padding = \"same\")(X)\n",
        "  X = BatchNormalization(axis = -1)(X)\n",
        "  X = Activation('relu')(X)\n",
        "  X = Dropout(0.5)(X)\n",
        "  X = MaxPooling2D((2, 2), padding = \"same\")(X)  \n",
        "\n",
        "  X = Conv2D(512, (3, 3), padding = \"same\")(X)\n",
        "  X = BatchNormalization(axis = -1)(X)\n",
        "  X = Activation('relu')(X)\n",
        "  X = Dropout(0.5)(X)\n",
        "  X = MaxPooling2D((2, 2), padding = \"same\")(X)\n",
        "  \n",
        "  X = Flatten()(X)\n",
        "\n",
        "  # FC + Dropout X2\n",
        "  X = Dense(16, activation = 'relu')(X)\n",
        "  X = Dropout(0.4)(X)\n",
        "\n",
        "  X = Dense(32, activation = 'relu')(X)\n",
        "  X = Dropout(0.3)(X)\n",
        "\n",
        "  #Sigmoid activation\n",
        "  X = Dense(1, activation = 'sigmoid')(X)\n",
        "\n",
        "  #Model creation\n",
        "  model = Model(inputs = X_input, outputs = X, name='xray')\n",
        "\n",
        "  return model"
      ],
      "execution_count": 0,
      "outputs": []
    },
    {
      "cell_type": "code",
      "metadata": {
        "id": "ALRskjnEieR0",
        "colab_type": "code",
        "colab": {}
      },
      "source": [
        "Xray = xray(input_shape = (200, 200, 1)) #Assigning the model"
      ],
      "execution_count": 0,
      "outputs": []
    },
    {
      "cell_type": "markdown",
      "metadata": {
        "id": "dKDweZDJSSvJ",
        "colab_type": "text"
      },
      "source": [
        "# Model Compileing, Training, and Testing"
      ]
    },
    {
      "cell_type": "code",
      "metadata": {
        "id": "g4EyqpFq7fh6",
        "colab_type": "code",
        "colab": {}
      },
      "source": [
        "Xray.compile(loss = 'binary_crossentropy', \n",
        "              optimizer = 'Adam',\n",
        "              metrics = ['acc']) "
      ],
      "execution_count": 0,
      "outputs": []
    },
    {
      "cell_type": "code",
      "metadata": {
        "id": "A37C_gpc4Q06",
        "colab_type": "code",
        "outputId": "2d75ba35-63b6-4854-c04c-6aba662a9b79",
        "colab": {
          "base_uri": "https://localhost:8080/",
          "height": 1054
        }
      },
      "source": [
        "STEP_SIZE_TRAIN=train_generator.n//train_generator.batch_size #Determining the step size == (number of samples)/(batch size)\n",
        "\n",
        "Xray.fit_generator(generator=train_generator,                # Model training\n",
        "                    steps_per_epoch=STEP_SIZE_TRAIN,\n",
        "                    epochs = 30)"
      ],
      "execution_count": 69,
      "outputs": [
        {
          "output_type": "stream",
          "text": [
            "Epoch 1/30\n",
            "325/325 [==============================] - 46s 142ms/step - loss: 0.4278 - acc: 0.7825\n",
            "Epoch 2/30\n",
            "325/325 [==============================] - 46s 143ms/step - loss: 0.2560 - acc: 0.8932\n",
            "Epoch 3/30\n",
            "325/325 [==============================] - 47s 144ms/step - loss: 0.2290 - acc: 0.9200\n",
            "Epoch 4/30\n",
            "325/325 [==============================] - 47s 145ms/step - loss: 0.1921 - acc: 0.9359\n",
            "Epoch 5/30\n",
            "325/325 [==============================] - 48s 146ms/step - loss: 0.1773 - acc: 0.9400\n",
            "Epoch 6/30\n",
            "325/325 [==============================] - 48s 147ms/step - loss: 0.1674 - acc: 0.9454\n",
            "Epoch 7/30\n",
            "325/325 [==============================] - 48s 147ms/step - loss: 0.1637 - acc: 0.9461\n",
            "Epoch 8/30\n",
            "325/325 [==============================] - 48s 146ms/step - loss: 0.1451 - acc: 0.9519\n",
            "Epoch 9/30\n",
            "325/325 [==============================] - 48s 148ms/step - loss: 0.1635 - acc: 0.9481\n",
            "Epoch 10/30\n",
            "325/325 [==============================] - 48s 147ms/step - loss: 0.1376 - acc: 0.9538\n",
            "Epoch 11/30\n",
            "325/325 [==============================] - 48s 147ms/step - loss: 0.1458 - acc: 0.9535\n",
            "Epoch 12/30\n",
            "325/325 [==============================] - 48s 146ms/step - loss: 0.1178 - acc: 0.9613\n",
            "Epoch 13/30\n",
            "325/325 [==============================] - 48s 147ms/step - loss: 0.1289 - acc: 0.9571\n",
            "Epoch 14/30\n",
            "325/325 [==============================] - 49s 151ms/step - loss: 0.1216 - acc: 0.9610\n",
            "Epoch 15/30\n",
            "325/325 [==============================] - 48s 147ms/step - loss: 0.1283 - acc: 0.9581\n",
            "Epoch 16/30\n",
            "325/325 [==============================] - 48s 148ms/step - loss: 0.0897 - acc: 0.9696\n",
            "Epoch 17/30\n",
            "325/325 [==============================] - 47s 146ms/step - loss: 0.1085 - acc: 0.9658\n",
            "Epoch 18/30\n",
            "325/325 [==============================] - 48s 147ms/step - loss: 0.0978 - acc: 0.9688\n",
            "Epoch 19/30\n",
            "325/325 [==============================] - 48s 147ms/step - loss: 0.0911 - acc: 0.9721\n",
            "Epoch 20/30\n",
            "325/325 [==============================] - 46s 143ms/step - loss: 0.0826 - acc: 0.9754\n",
            "Epoch 21/30\n",
            "325/325 [==============================] - 46s 143ms/step - loss: 0.1039 - acc: 0.9627\n",
            "Epoch 22/30\n",
            "325/325 [==============================] - 47s 143ms/step - loss: 0.0991 - acc: 0.9698\n",
            "Epoch 23/30\n",
            "325/325 [==============================] - 47s 144ms/step - loss: 0.1022 - acc: 0.9679\n",
            "Epoch 24/30\n",
            "325/325 [==============================] - 47s 144ms/step - loss: 0.0794 - acc: 0.9773\n",
            "Epoch 25/30\n",
            "325/325 [==============================] - 47s 144ms/step - loss: 0.0852 - acc: 0.9727\n",
            "Epoch 26/30\n",
            "325/325 [==============================] - 47s 144ms/step - loss: 0.0746 - acc: 0.9769\n",
            "Epoch 27/30\n",
            "325/325 [==============================] - 46s 142ms/step - loss: 0.0791 - acc: 0.9771\n",
            "Epoch 28/30\n",
            "325/325 [==============================] - 46s 143ms/step - loss: 0.0776 - acc: 0.9748\n",
            "Epoch 29/30\n",
            "325/325 [==============================] - 46s 142ms/step - loss: 0.0825 - acc: 0.9731\n",
            "Epoch 30/30\n",
            "325/325 [==============================] - 46s 143ms/step - loss: 0.0623 - acc: 0.9783\n"
          ],
          "name": "stdout"
        },
        {
          "output_type": "execute_result",
          "data": {
            "text/plain": [
              "<keras.callbacks.callbacks.History at 0x7ff2ba32c4a8>"
            ]
          },
          "metadata": {
            "tags": []
          },
          "execution_count": 69
        }
      ]
    },
    {
      "cell_type": "code",
      "metadata": {
        "id": "228UBDD5fiSq",
        "colab_type": "code",
        "outputId": "e4529b15-367a-4242-d4d6-7c883c0fcaee",
        "colab": {
          "base_uri": "https://localhost:8080/",
          "height": 68
        }
      },
      "source": [
        "STEP_SIZE_TEST = test_generator.n//test_generator.batch_size #Determining the step size == (number of samples)/(batch size)\n",
        "\n",
        "test_generator.reset()\n",
        "\n",
        "pred = Xray.predict_generator(test_generator,        # Model Evaluation\n",
        "steps=STEP_SIZE_TEST,\n",
        "verbose=1)\n",
        "\n",
        "print (\"Loss = \" + str(pred[0]))\n",
        "print (\"Test Accuracy = \" + str(pred[1]))"
      ],
      "execution_count": 70,
      "outputs": [
        {
          "output_type": "stream",
          "text": [
            "38/38 [==============================] - 4s 116ms/step\n",
            "Loss = [0.99991095]\n",
            "Test Accuracy = [0.99990225]\n"
          ],
          "name": "stdout"
        }
      ]
    },
    {
      "cell_type": "markdown",
      "metadata": {
        "id": "r7Hwn5i-SZbR",
        "colab_type": "text"
      },
      "source": [
        "# Model Saving, Loading, and Summrizing."
      ]
    },
    {
      "cell_type": "code",
      "metadata": {
        "id": "6KcpdSygYNi8",
        "colab_type": "code",
        "colab": {}
      },
      "source": [
        "Xray.save('Xray,h5') #Saving the weights of the model as an h5 file."
      ],
      "execution_count": 0,
      "outputs": []
    },
    {
      "cell_type": "code",
      "metadata": {
        "id": "6dQIvNNHLCvW",
        "colab_type": "code",
        "colab": {}
      },
      "source": [
        "Xray = load_model('') # Only if there is already a trained model !"
      ],
      "execution_count": 0,
      "outputs": []
    },
    {
      "cell_type": "code",
      "metadata": {
        "id": "1_82DVhr7s0Q",
        "colab_type": "code",
        "outputId": "f0f22121-c439-44f4-fda0-e4f3fc42f3ab",
        "colab": {
          "base_uri": "https://localhost:8080/",
          "height": 1000
        }
      },
      "source": [
        "Xray.summary() "
      ],
      "execution_count": 84,
      "outputs": [
        {
          "output_type": "stream",
          "text": [
            "Model: \"xray\"\n",
            "_________________________________________________________________\n",
            "Layer (type)                 Output Shape              Param #   \n",
            "=================================================================\n",
            "input_16 (InputLayer)        (None, 200, 200, 1)       0         \n",
            "_________________________________________________________________\n",
            "conv2d_103 (Conv2D)          (None, 200, 200, 32)      320       \n",
            "_________________________________________________________________\n",
            "batch_normalization_81 (Batc (None, 200, 200, 32)      128       \n",
            "_________________________________________________________________\n",
            "activation_99 (Activation)   (None, 200, 200, 32)      0         \n",
            "_________________________________________________________________\n",
            "dropout_115 (Dropout)        (None, 200, 200, 32)      0         \n",
            "_________________________________________________________________\n",
            "max_pooling2d_99 (MaxPooling (None, 100, 100, 32)      0         \n",
            "_________________________________________________________________\n",
            "conv2d_104 (Conv2D)          (None, 100, 100, 32)      9248      \n",
            "_________________________________________________________________\n",
            "batch_normalization_82 (Batc (None, 100, 100, 32)      128       \n",
            "_________________________________________________________________\n",
            "activation_100 (Activation)  (None, 100, 100, 32)      0         \n",
            "_________________________________________________________________\n",
            "dropout_116 (Dropout)        (None, 100, 100, 32)      0         \n",
            "_________________________________________________________________\n",
            "max_pooling2d_100 (MaxPoolin (None, 50, 50, 32)        0         \n",
            "_________________________________________________________________\n",
            "conv2d_105 (Conv2D)          (None, 50, 50, 64)        18496     \n",
            "_________________________________________________________________\n",
            "batch_normalization_83 (Batc (None, 50, 50, 64)        256       \n",
            "_________________________________________________________________\n",
            "activation_101 (Activation)  (None, 50, 50, 64)        0         \n",
            "_________________________________________________________________\n",
            "dropout_117 (Dropout)        (None, 50, 50, 64)        0         \n",
            "_________________________________________________________________\n",
            "max_pooling2d_101 (MaxPoolin (None, 25, 25, 64)        0         \n",
            "_________________________________________________________________\n",
            "conv2d_106 (Conv2D)          (None, 25, 25, 64)        36928     \n",
            "_________________________________________________________________\n",
            "batch_normalization_84 (Batc (None, 25, 25, 64)        256       \n",
            "_________________________________________________________________\n",
            "activation_102 (Activation)  (None, 25, 25, 64)        0         \n",
            "_________________________________________________________________\n",
            "dropout_118 (Dropout)        (None, 25, 25, 64)        0         \n",
            "_________________________________________________________________\n",
            "max_pooling2d_102 (MaxPoolin (None, 12, 12, 64)        0         \n",
            "_________________________________________________________________\n",
            "conv2d_107 (Conv2D)          (None, 12, 12, 128)       73856     \n",
            "_________________________________________________________________\n",
            "batch_normalization_85 (Batc (None, 12, 12, 128)       512       \n",
            "_________________________________________________________________\n",
            "activation_103 (Activation)  (None, 12, 12, 128)       0         \n",
            "_________________________________________________________________\n",
            "dropout_119 (Dropout)        (None, 12, 12, 128)       0         \n",
            "_________________________________________________________________\n",
            "max_pooling2d_103 (MaxPoolin (None, 6, 6, 128)         0         \n",
            "_________________________________________________________________\n",
            "conv2d_108 (Conv2D)          (None, 6, 6, 128)         147584    \n",
            "_________________________________________________________________\n",
            "batch_normalization_86 (Batc (None, 6, 6, 128)         512       \n",
            "_________________________________________________________________\n",
            "activation_104 (Activation)  (None, 6, 6, 128)         0         \n",
            "_________________________________________________________________\n",
            "dropout_120 (Dropout)        (None, 6, 6, 128)         0         \n",
            "_________________________________________________________________\n",
            "max_pooling2d_104 (MaxPoolin (None, 3, 3, 128)         0         \n",
            "_________________________________________________________________\n",
            "conv2d_109 (Conv2D)          (None, 3, 3, 256)         295168    \n",
            "_________________________________________________________________\n",
            "batch_normalization_87 (Batc (None, 3, 3, 256)         1024      \n",
            "_________________________________________________________________\n",
            "activation_105 (Activation)  (None, 3, 3, 256)         0         \n",
            "_________________________________________________________________\n",
            "dropout_121 (Dropout)        (None, 3, 3, 256)         0         \n",
            "_________________________________________________________________\n",
            "max_pooling2d_105 (MaxPoolin (None, 2, 2, 256)         0         \n",
            "_________________________________________________________________\n",
            "conv2d_110 (Conv2D)          (None, 2, 2, 256)         590080    \n",
            "_________________________________________________________________\n",
            "batch_normalization_88 (Batc (None, 2, 2, 256)         1024      \n",
            "_________________________________________________________________\n",
            "activation_106 (Activation)  (None, 2, 2, 256)         0         \n",
            "_________________________________________________________________\n",
            "dropout_122 (Dropout)        (None, 2, 2, 256)         0         \n",
            "_________________________________________________________________\n",
            "max_pooling2d_106 (MaxPoolin (None, 1, 1, 256)         0         \n",
            "_________________________________________________________________\n",
            "conv2d_111 (Conv2D)          (None, 1, 1, 512)         1180160   \n",
            "_________________________________________________________________\n",
            "batch_normalization_89 (Batc (None, 1, 1, 512)         2048      \n",
            "_________________________________________________________________\n",
            "activation_107 (Activation)  (None, 1, 1, 512)         0         \n",
            "_________________________________________________________________\n",
            "dropout_123 (Dropout)        (None, 1, 1, 512)         0         \n",
            "_________________________________________________________________\n",
            "max_pooling2d_107 (MaxPoolin (None, 1, 1, 512)         0         \n",
            "_________________________________________________________________\n",
            "conv2d_112 (Conv2D)          (None, 1, 1, 512)         2359808   \n",
            "_________________________________________________________________\n",
            "batch_normalization_90 (Batc (None, 1, 1, 512)         2048      \n",
            "_________________________________________________________________\n",
            "activation_108 (Activation)  (None, 1, 1, 512)         0         \n",
            "_________________________________________________________________\n",
            "dropout_124 (Dropout)        (None, 1, 1, 512)         0         \n",
            "_________________________________________________________________\n",
            "max_pooling2d_108 (MaxPoolin (None, 1, 1, 512)         0         \n",
            "_________________________________________________________________\n",
            "flatten_9 (Flatten)          (None, 512)               0         \n",
            "_________________________________________________________________\n",
            "dense_25 (Dense)             (None, 16)                8208      \n",
            "_________________________________________________________________\n",
            "dropout_125 (Dropout)        (None, 16)                0         \n",
            "_________________________________________________________________\n",
            "dense_26 (Dense)             (None, 32)                544       \n",
            "_________________________________________________________________\n",
            "dropout_126 (Dropout)        (None, 32)                0         \n",
            "_________________________________________________________________\n",
            "dense_27 (Dense)             (None, 1)                 33        \n",
            "=================================================================\n",
            "Total params: 4,728,369\n",
            "Trainable params: 4,724,401\n",
            "Non-trainable params: 3,968\n",
            "_________________________________________________________________\n"
          ],
          "name": "stdout"
        }
      ]
    },
    {
      "cell_type": "markdown",
      "metadata": {
        "id": "PgfsaCkZShwf",
        "colab_type": "text"
      },
      "source": [
        "# Test Your Own Images :)"
      ]
    },
    {
      "cell_type": "code",
      "metadata": {
        "id": "byMimjjhOiX3",
        "colab_type": "code",
        "outputId": "31acb327-98b1-43bc-e930-d08e941adba9",
        "colab": {
          "resources": {
            "http://localhost:8080/nbextensions/google.colab/files.js": {
              "data": "Ly8gQ29weXJpZ2h0IDIwMTcgR29vZ2xlIExMQwovLwovLyBMaWNlbnNlZCB1bmRlciB0aGUgQXBhY2hlIExpY2Vuc2UsIFZlcnNpb24gMi4wICh0aGUgIkxpY2Vuc2UiKTsKLy8geW91IG1heSBub3QgdXNlIHRoaXMgZmlsZSBleGNlcHQgaW4gY29tcGxpYW5jZSB3aXRoIHRoZSBMaWNlbnNlLgovLyBZb3UgbWF5IG9idGFpbiBhIGNvcHkgb2YgdGhlIExpY2Vuc2UgYXQKLy8KLy8gICAgICBodHRwOi8vd3d3LmFwYWNoZS5vcmcvbGljZW5zZXMvTElDRU5TRS0yLjAKLy8KLy8gVW5sZXNzIHJlcXVpcmVkIGJ5IGFwcGxpY2FibGUgbGF3IG9yIGFncmVlZCB0byBpbiB3cml0aW5nLCBzb2Z0d2FyZQovLyBkaXN0cmlidXRlZCB1bmRlciB0aGUgTGljZW5zZSBpcyBkaXN0cmlidXRlZCBvbiBhbiAiQVMgSVMiIEJBU0lTLAovLyBXSVRIT1VUIFdBUlJBTlRJRVMgT1IgQ09ORElUSU9OUyBPRiBBTlkgS0lORCwgZWl0aGVyIGV4cHJlc3Mgb3IgaW1wbGllZC4KLy8gU2VlIHRoZSBMaWNlbnNlIGZvciB0aGUgc3BlY2lmaWMgbGFuZ3VhZ2UgZ292ZXJuaW5nIHBlcm1pc3Npb25zIGFuZAovLyBsaW1pdGF0aW9ucyB1bmRlciB0aGUgTGljZW5zZS4KCi8qKgogKiBAZmlsZW92ZXJ2aWV3IEhlbHBlcnMgZm9yIGdvb2dsZS5jb2xhYiBQeXRob24gbW9kdWxlLgogKi8KKGZ1bmN0aW9uKHNjb3BlKSB7CmZ1bmN0aW9uIHNwYW4odGV4dCwgc3R5bGVBdHRyaWJ1dGVzID0ge30pIHsKICBjb25zdCBlbGVtZW50ID0gZG9jdW1lbnQuY3JlYXRlRWxlbWVudCgnc3BhbicpOwogIGVsZW1lbnQudGV4dENvbnRlbnQgPSB0ZXh0OwogIGZvciAoY29uc3Qga2V5IG9mIE9iamVjdC5rZXlzKHN0eWxlQXR0cmlidXRlcykpIHsKICAgIGVsZW1lbnQuc3R5bGVba2V5XSA9IHN0eWxlQXR0cmlidXRlc1trZXldOwogIH0KICByZXR1cm4gZWxlbWVudDsKfQoKLy8gTWF4IG51bWJlciBvZiBieXRlcyB3aGljaCB3aWxsIGJlIHVwbG9hZGVkIGF0IGEgdGltZS4KY29uc3QgTUFYX1BBWUxPQURfU0laRSA9IDEwMCAqIDEwMjQ7Ci8vIE1heCBhbW91bnQgb2YgdGltZSB0byBibG9jayB3YWl0aW5nIGZvciB0aGUgdXNlci4KY29uc3QgRklMRV9DSEFOR0VfVElNRU9VVF9NUyA9IDMwICogMTAwMDsKCmZ1bmN0aW9uIF91cGxvYWRGaWxlcyhpbnB1dElkLCBvdXRwdXRJZCkgewogIGNvbnN0IHN0ZXBzID0gdXBsb2FkRmlsZXNTdGVwKGlucHV0SWQsIG91dHB1dElkKTsKICBjb25zdCBvdXRwdXRFbGVtZW50ID0gZG9jdW1lbnQuZ2V0RWxlbWVudEJ5SWQob3V0cHV0SWQpOwogIC8vIENhY2hlIHN0ZXBzIG9uIHRoZSBvdXRwdXRFbGVtZW50IHRvIG1ha2UgaXQgYXZhaWxhYmxlIGZvciB0aGUgbmV4dCBjYWxsCiAgLy8gdG8gdXBsb2FkRmlsZXNDb250aW51ZSBmcm9tIFB5dGhvbi4KICBvdXRwdXRFbGVtZW50LnN0ZXBzID0gc3RlcHM7CgogIHJldHVybiBfdXBsb2FkRmlsZXNDb250aW51ZShvdXRwdXRJZCk7Cn0KCi8vIFRoaXMgaXMgcm91Z2hseSBhbiBhc3luYyBnZW5lcmF0b3IgKG5vdCBzdXBwb3J0ZWQgaW4gdGhlIGJyb3dzZXIgeWV0KSwKLy8gd2hlcmUgdGhlcmUgYXJlIG11bHRpcGxlIGFzeW5jaHJvbm91cyBzdGVwcyBhbmQgdGhlIFB5dGhvbiBzaWRlIGlzIGdvaW5nCi8vIHRvIHBvbGwgZm9yIGNvbXBsZXRpb24gb2YgZWFjaCBzdGVwLgovLyBUaGlzIHVzZXMgYSBQcm9taXNlIHRvIGJsb2NrIHRoZSBweXRob24gc2lkZSBvbiBjb21wbGV0aW9uIG9mIGVhY2ggc3RlcCwKLy8gdGhlbiBwYXNzZXMgdGhlIHJlc3VsdCBvZiB0aGUgcHJldmlvdXMgc3RlcCBhcyB0aGUgaW5wdXQgdG8gdGhlIG5leHQgc3RlcC4KZnVuY3Rpb24gX3VwbG9hZEZpbGVzQ29udGludWUob3V0cHV0SWQpIHsKICBjb25zdCBvdXRwdXRFbGVtZW50ID0gZG9jdW1lbnQuZ2V0RWxlbWVudEJ5SWQob3V0cHV0SWQpOwogIGNvbnN0IHN0ZXBzID0gb3V0cHV0RWxlbWVudC5zdGVwczsKCiAgY29uc3QgbmV4dCA9IHN0ZXBzLm5leHQob3V0cHV0RWxlbWVudC5sYXN0UHJvbWlzZVZhbHVlKTsKICByZXR1cm4gUHJvbWlzZS5yZXNvbHZlKG5leHQudmFsdWUucHJvbWlzZSkudGhlbigodmFsdWUpID0+IHsKICAgIC8vIENhY2hlIHRoZSBsYXN0IHByb21pc2UgdmFsdWUgdG8gbWFrZSBpdCBhdmFpbGFibGUgdG8gdGhlIG5leHQKICAgIC8vIHN0ZXAgb2YgdGhlIGdlbmVyYXRvci4KICAgIG91dHB1dEVsZW1lbnQubGFzdFByb21pc2VWYWx1ZSA9IHZhbHVlOwogICAgcmV0dXJuIG5leHQudmFsdWUucmVzcG9uc2U7CiAgfSk7Cn0KCi8qKgogKiBHZW5lcmF0b3IgZnVuY3Rpb24gd2hpY2ggaXMgY2FsbGVkIGJldHdlZW4gZWFjaCBhc3luYyBzdGVwIG9mIHRoZSB1cGxvYWQKICogcHJvY2Vzcy4KICogQHBhcmFtIHtzdHJpbmd9IGlucHV0SWQgRWxlbWVudCBJRCBvZiB0aGUgaW5wdXQgZmlsZSBwaWNrZXIgZWxlbWVudC4KICogQHBhcmFtIHtzdHJpbmd9IG91dHB1dElkIEVsZW1lbnQgSUQgb2YgdGhlIG91dHB1dCBkaXNwbGF5LgogKiBAcmV0dXJuIHshSXRlcmFibGU8IU9iamVjdD59IEl0ZXJhYmxlIG9mIG5leHQgc3RlcHMuCiAqLwpmdW5jdGlvbiogdXBsb2FkRmlsZXNTdGVwKGlucHV0SWQsIG91dHB1dElkKSB7CiAgY29uc3QgaW5wdXRFbGVtZW50ID0gZG9jdW1lbnQuZ2V0RWxlbWVudEJ5SWQoaW5wdXRJZCk7CiAgaW5wdXRFbGVtZW50LmRpc2FibGVkID0gZmFsc2U7CgogIGNvbnN0IG91dHB1dEVsZW1lbnQgPSBkb2N1bWVudC5nZXRFbGVtZW50QnlJZChvdXRwdXRJZCk7CiAgb3V0cHV0RWxlbWVudC5pbm5lckhUTUwgPSAnJzsKCiAgY29uc3QgcGlja2VkUHJvbWlzZSA9IG5ldyBQcm9taXNlKChyZXNvbHZlKSA9PiB7CiAgICBpbnB1dEVsZW1lbnQuYWRkRXZlbnRMaXN0ZW5lcignY2hhbmdlJywgKGUpID0+IHsKICAgICAgcmVzb2x2ZShlLnRhcmdldC5maWxlcyk7CiAgICB9KTsKICB9KTsKCiAgY29uc3QgY2FuY2VsID0gZG9jdW1lbnQuY3JlYXRlRWxlbWVudCgnYnV0dG9uJyk7CiAgaW5wdXRFbGVtZW50LnBhcmVudEVsZW1lbnQuYXBwZW5kQ2hpbGQoY2FuY2VsKTsKICBjYW5jZWwudGV4dENvbnRlbnQgPSAnQ2FuY2VsIHVwbG9hZCc7CiAgY29uc3QgY2FuY2VsUHJvbWlzZSA9IG5ldyBQcm9taXNlKChyZXNvbHZlKSA9PiB7CiAgICBjYW5jZWwub25jbGljayA9ICgpID0+IHsKICAgICAgcmVzb2x2ZShudWxsKTsKICAgIH07CiAgfSk7CgogIC8vIENhbmNlbCB1cGxvYWQgaWYgdXNlciBoYXNuJ3QgcGlja2VkIGFueXRoaW5nIGluIHRpbWVvdXQuCiAgY29uc3QgdGltZW91dFByb21pc2UgPSBuZXcgUHJvbWlzZSgocmVzb2x2ZSkgPT4gewogICAgc2V0VGltZW91dCgoKSA9PiB7CiAgICAgIHJlc29sdmUobnVsbCk7CiAgICB9LCBGSUxFX0NIQU5HRV9USU1FT1VUX01TKTsKICB9KTsKCiAgLy8gV2FpdCBmb3IgdGhlIHVzZXIgdG8gcGljayB0aGUgZmlsZXMuCiAgY29uc3QgZmlsZXMgPSB5aWVsZCB7CiAgICBwcm9taXNlOiBQcm9taXNlLnJhY2UoW3BpY2tlZFByb21pc2UsIHRpbWVvdXRQcm9taXNlLCBjYW5jZWxQcm9taXNlXSksCiAgICByZXNwb25zZTogewogICAgICBhY3Rpb246ICdzdGFydGluZycsCiAgICB9CiAgfTsKCiAgaWYgKCFmaWxlcykgewogICAgcmV0dXJuIHsKICAgICAgcmVzcG9uc2U6IHsKICAgICAgICBhY3Rpb246ICdjb21wbGV0ZScsCiAgICAgIH0KICAgIH07CiAgfQoKICBjYW5jZWwucmVtb3ZlKCk7CgogIC8vIERpc2FibGUgdGhlIGlucHV0IGVsZW1lbnQgc2luY2UgZnVydGhlciBwaWNrcyBhcmUgbm90IGFsbG93ZWQuCiAgaW5wdXRFbGVtZW50LmRpc2FibGVkID0gdHJ1ZTsKCiAgZm9yIChjb25zdCBmaWxlIG9mIGZpbGVzKSB7CiAgICBjb25zdCBsaSA9IGRvY3VtZW50LmNyZWF0ZUVsZW1lbnQoJ2xpJyk7CiAgICBsaS5hcHBlbmQoc3BhbihmaWxlLm5hbWUsIHtmb250V2VpZ2h0OiAnYm9sZCd9KSk7CiAgICBsaS5hcHBlbmQoc3BhbigKICAgICAgICBgKCR7ZmlsZS50eXBlIHx8ICduL2EnfSkgLSAke2ZpbGUuc2l6ZX0gYnl0ZXMsIGAgKwogICAgICAgIGBsYXN0IG1vZGlmaWVkOiAkewogICAgICAgICAgICBmaWxlLmxhc3RNb2RpZmllZERhdGUgPyBmaWxlLmxhc3RNb2RpZmllZERhdGUudG9Mb2NhbGVEYXRlU3RyaW5nKCkgOgogICAgICAgICAgICAgICAgICAgICAgICAgICAgICAgICAgICAnbi9hJ30gLSBgKSk7CiAgICBjb25zdCBwZXJjZW50ID0gc3BhbignMCUgZG9uZScpOwogICAgbGkuYXBwZW5kQ2hpbGQocGVyY2VudCk7CgogICAgb3V0cHV0RWxlbWVudC5hcHBlbmRDaGlsZChsaSk7CgogICAgY29uc3QgZmlsZURhdGFQcm9taXNlID0gbmV3IFByb21pc2UoKHJlc29sdmUpID0+IHsKICAgICAgY29uc3QgcmVhZGVyID0gbmV3IEZpbGVSZWFkZXIoKTsKICAgICAgcmVhZGVyLm9ubG9hZCA9IChlKSA9PiB7CiAgICAgICAgcmVzb2x2ZShlLnRhcmdldC5yZXN1bHQpOwogICAgICB9OwogICAgICByZWFkZXIucmVhZEFzQXJyYXlCdWZmZXIoZmlsZSk7CiAgICB9KTsKICAgIC8vIFdhaXQgZm9yIHRoZSBkYXRhIHRvIGJlIHJlYWR5LgogICAgbGV0IGZpbGVEYXRhID0geWllbGQgewogICAgICBwcm9taXNlOiBmaWxlRGF0YVByb21pc2UsCiAgICAgIHJlc3BvbnNlOiB7CiAgICAgICAgYWN0aW9uOiAnY29udGludWUnLAogICAgICB9CiAgICB9OwoKICAgIC8vIFVzZSBhIGNodW5rZWQgc2VuZGluZyB0byBhdm9pZCBtZXNzYWdlIHNpemUgbGltaXRzLiBTZWUgYi82MjExNTY2MC4KICAgIGxldCBwb3NpdGlvbiA9IDA7CiAgICB3aGlsZSAocG9zaXRpb24gPCBmaWxlRGF0YS5ieXRlTGVuZ3RoKSB7CiAgICAgIGNvbnN0IGxlbmd0aCA9IE1hdGgubWluKGZpbGVEYXRhLmJ5dGVMZW5ndGggLSBwb3NpdGlvbiwgTUFYX1BBWUxPQURfU0laRSk7CiAgICAgIGNvbnN0IGNodW5rID0gbmV3IFVpbnQ4QXJyYXkoZmlsZURhdGEsIHBvc2l0aW9uLCBsZW5ndGgpOwogICAgICBwb3NpdGlvbiArPSBsZW5ndGg7CgogICAgICBjb25zdCBiYXNlNjQgPSBidG9hKFN0cmluZy5mcm9tQ2hhckNvZGUuYXBwbHkobnVsbCwgY2h1bmspKTsKICAgICAgeWllbGQgewogICAgICAgIHJlc3BvbnNlOiB7CiAgICAgICAgICBhY3Rpb246ICdhcHBlbmQnLAogICAgICAgICAgZmlsZTogZmlsZS5uYW1lLAogICAgICAgICAgZGF0YTogYmFzZTY0LAogICAgICAgIH0sCiAgICAgIH07CiAgICAgIHBlcmNlbnQudGV4dENvbnRlbnQgPQogICAgICAgICAgYCR7TWF0aC5yb3VuZCgocG9zaXRpb24gLyBmaWxlRGF0YS5ieXRlTGVuZ3RoKSAqIDEwMCl9JSBkb25lYDsKICAgIH0KICB9CgogIC8vIEFsbCBkb25lLgogIHlpZWxkIHsKICAgIHJlc3BvbnNlOiB7CiAgICAgIGFjdGlvbjogJ2NvbXBsZXRlJywKICAgIH0KICB9Owp9CgpzY29wZS5nb29nbGUgPSBzY29wZS5nb29nbGUgfHwge307CnNjb3BlLmdvb2dsZS5jb2xhYiA9IHNjb3BlLmdvb2dsZS5jb2xhYiB8fCB7fTsKc2NvcGUuZ29vZ2xlLmNvbGFiLl9maWxlcyA9IHsKICBfdXBsb2FkRmlsZXMsCiAgX3VwbG9hZEZpbGVzQ29udGludWUsCn07Cn0pKHNlbGYpOwo=",
              "ok": true,
              "headers": [
                [
                  "content-type",
                  "application/javascript"
                ]
              ],
              "status": 200,
              "status_text": ""
            }
          },
          "base_uri": "https://localhost:8080/",
          "height": 111
        }
      },
      "source": [
        "from google.colab import files        #Test your own images ! \n",
        "uploaded = files.upload()             #Upload an image from your dir.\n",
        "\n",
        "for name, data in uploaded.items():\n",
        "  with open(name, 'wb') as f:\n",
        "    f.write(data)\n",
        "    print ('saved file', name)"
      ],
      "execution_count": 86,
      "outputs": [
        {
          "output_type": "display_data",
          "data": {
            "text/html": [
              "\n",
              "     <input type=\"file\" id=\"files-9b19b845-d40f-4f44-9264-fb9555ad023e\" name=\"files[]\" multiple disabled />\n",
              "     <output id=\"result-9b19b845-d40f-4f44-9264-fb9555ad023e\">\n",
              "      Upload widget is only available when the cell has been executed in the\n",
              "      current browser session. Please rerun this cell to enable.\n",
              "      </output>\n",
              "      <script src=\"/nbextensions/google.colab/files.js\"></script> "
            ],
            "text/plain": [
              "<IPython.core.display.HTML object>"
            ]
          },
          "metadata": {
            "tags": []
          }
        },
        {
          "output_type": "stream",
          "text": [
            "Saving datasets_17810_23812_chest_xray_val_PNEUMONIA_person1947_bacteria_4876.jpeg to datasets_17810_23812_chest_xray_val_PNEUMONIA_person1947_bacteria_4876.jpeg\n",
            "saved file datasets_17810_23812_chest_xray_val_PNEUMONIA_person1947_bacteria_4876.jpeg\n"
          ],
          "name": "stdout"
        }
      ]
    },
    {
      "cell_type": "code",
      "metadata": {
        "id": "kFXHlg-mMGRx",
        "colab_type": "code",
        "outputId": "0db909c0-dfc6-46a4-da91-d0876a028253",
        "colab": {
          "base_uri": "https://localhost:8080/",
          "height": 286
        }
      },
      "source": [
        "from matplotlib.pyplot import imshow\n",
        "from keras.applications.imagenet_utils import preprocess_input\n",
        "\n",
        "img_path = '/content/' + name          #Uncomment if you want to use the image uploded by the previous cell.\n",
        "#img_path = '/content/' + '350' + '.jpg' #Uncomment if you want to choose the image manually.\n",
        "\n",
        "img = image.load_img(img_path, color_mode='grayscale', target_size=(200, 200))\n",
        "\n",
        "imshow(img)\n",
        "\n",
        "x = image.img_to_array(img)\n",
        "x = np.expand_dims(x, axis=0)\n",
        "\n",
        "if Xray.predict(x) == 0 :\n",
        "  print(\"The patient is Pneumonia negtive\")\n",
        "else :\n",
        "  print(\"The patient is Pneumonia positive !\")"
      ],
      "execution_count": 92,
      "outputs": [
        {
          "output_type": "stream",
          "text": [
            "The patient is Pneumonia positive !\n"
          ],
          "name": "stdout"
        },
        {
          "output_type": "display_data",
          "data": {
            "image/png": "[encoded data removed]",
            "text/plain": [
              "<Figure size 432x288 with 1 Axes>"
            ]
          },
          "metadata": {
            "tags": [],
            "needs_background": "light"
          }
        }
      ]
    },
    {
      "cell_type": "code",
      "metadata": {
        "id": "j2YI0hmOWZg8",
        "colab_type": "code",
        "colab": {}
      },
      "source": [
        ""
      ],
      "execution_count": 0,
      "outputs": []
    }
  ]
}